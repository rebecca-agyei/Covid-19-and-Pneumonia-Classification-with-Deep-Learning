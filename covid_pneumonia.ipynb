{
  "nbformat": 4,
  "nbformat_minor": 0,
  "metadata": {
    "colab": {
      "name": "script.ipynb",
      "provenance": [],
      "collapsed_sections": []
    },
    "kernelspec": {
      "name": "python3",
      "display_name": "Python 3"
    },
    "language_info": {
      "name": "python"
    }
  },
  "cells": [
    {
      "cell_type": "code",
      "metadata": {
        "id": "gO7OjVMVAcPY"
      },
      "source": [
        "import tensorflow as tf\n",
        "from tensorflow import keras\n",
        "from tensorflow.keras.models import Sequential\n",
        "from tensorflow.keras.preprocessing.image import ImageDataGenerator\n",
        "\n",
        "from tensorflow.keras.callbacks import EarlyStopping\n",
        "from tensorflow.keras import layers\n",
        "\n",
        "import matplotlib.pyplot as plt\n",
        "# import app\n",
        "\n",
        "import numpy\n",
        "\n",
        "from sklearn.metrics import classification_report, confusion_matrix"
      ],
      "execution_count": 2,
      "outputs": []
    },
    {
      "cell_type": "code",
      "metadata": {
        "id": "VrHQ-foXApQr"
      },
      "source": [
        "training_data_generator = ImageDataGenerator(rescale=1./255, zoom_range=0.2, rotation_range=15, width_shift_range=0.05, height_shift_range=0.05)\n",
        "\n",
        "training_iterator = training_data_generator.flow_from_directory(\"augmented-data/train\", class_mode=\"categorical\", color_mode=\"grayscale\", batch_size=20)\n",
        "\n",
        "test_iterator=data_generator.flow_from_directory('augmented-data/test', class_mode='categorical', color_mode='grayscale', batch_size=20, target_size=(256,256))\n",
        "\n",
        "validation_data_generator = ImageDataGenerator(rescale = 1.0/255)\n",
        "\n",
        "# loading the validation data \n",
        "validation_iterator = validation_data_generator.flow_from_directory((\"augmented-data/train\", class_mode=\"categorical\", color_mode=\"grayscale\", batch_size=20)\n"
      ],
      "execution_count": null,
      "outputs": []
    },
    {
      "cell_type": "code",
      "metadata": {
        "id": "qK3YCgkyC5TD"
      },
      "source": [
        "# building model\n",
        "model = tf.keras.Sequential()\n",
        "\n",
        "# adding input layer \n",
        "model.add(tf.keras.Input(shape=(256, 256, 1)))\n",
        "\n",
        "# adding convulayed layers with relu function and maxpooling\n",
        "model.add(layers.Conv2D(5, 5, strides=3, activation=\"relu\")) \n",
        "model.add(layers.MaxPooling2D(pool_size=(2, 2), strides=(2,2)))\n",
        "model.add(layers.Conv2D(3, 3, strides=1, activation=\"relu\")) \n",
        "model.add(layers.MaxPooling2D(pool_size=(2, 2), strides=(2,2)))\n",
        "model.add(tf.keras.layers.Flatten())\n",
        "\n",
        "# output layer \n",
        "model.add(tf.keras.layers.Dense(3,activation=\"softmax\"))\n",
        "\n",
        "\n",
        "model.summary()"
      ],
      "execution_count": null,
      "outputs": []
    },
    {
      "cell_type": "code",
      "metadata": {
        "id": "O4UaUDgSDUCh"
      },
      "source": [
        "# compiling the model\n",
        "model.compile(loss=keras.losses.CategoricalCrossentropy(), optimizer=keras.optimizers.SGD(learning_rate=0.05), metrics=[keras.metrics.CategoricalAccuracy(), keras.metrics.AUC()])\n",
        "\n",
        "# fitting the model\n",
        "history = model.fit(training_iterator, steps_per_epoch=training_iterator.samples/batch_size, epochs=5, validation_data=validation_iterator, validation_steps=validation_iterator.samples/batch_size\n",
        ")"
      ],
      "execution_count": null,
      "outputs": []
    },
    {
      "cell_type": "code",
      "metadata": {
        "id": "F613frr1D7Sb"
      },
      "source": [
        "fig = plt.figure()\n",
        "ax1 = fig.add_subplot(2, 1, 1)\n",
        "ax1.plot(history.history['categorical_accuracy'])\n",
        "ax1.plot(history.history['val_categorical_accuracy'])\n",
        "ax1.set_title('model accuracy')\n",
        "ax1.set_xlabel('epoch')\n",
        "ax1.set_ylabel('accuracy')\n",
        "ax1.legend(['train', 'validation'], loc='upper left')\n",
        "\n",
        "ax2 = fig.add_subplot(2, 1, 2)\n",
        "ax2.plot(history.history['auc'])\n",
        "ax2.plot(history.history['val_auc'])\n",
        "ax2.set_title('model auc')\n",
        "ax2.set_xlabel('epoch')\n",
        "ax2.set_ylabel('auc')\n",
        "ax2.legend(['train', 'validation'], loc='upper left')\n",
        " \n",
        "fig.tight_layout()\n",
        " \n",
        "fig.savefig('static/images/my_plots.png')\n",
        "\n",
        "test_steps_per_epoch = numpy.math.ceil(test_iterator.samples / test_iterator.batch_size)\n",
        "predictions = model.predict(test_iterator, steps=test_steps_per_epoch)\n",
        "test_steps_per_epoch = numpy.math.ceil(test_iterator.samples / test_iterator.batch_size)\n",
        "predicted_classes = numpy.argmax(predictions, axis=1)\n",
        "true_classes = test_iterator.classes\n",
        "class_labels = list(test_iterator.class_indices.keys())\n",
        "report = classification_report(true_classes, predicted_classes, target_names=class_labels)\n",
        "print(report)   \n",
        " \n",
        "cm=confusion_matrix(true_classes,predicted_classes)\n",
        "print(cm)"
      ],
      "execution_count": null,
      "outputs": []
    }
  ]
}